{
 "cells": [
  {
   "cell_type": "code",
   "execution_count": 2,
   "metadata": {},
   "outputs": [],
   "source": [
    "#Question 1"
   ]
  },
  {
   "cell_type": "code",
   "execution_count": 14,
   "metadata": {},
   "outputs": [],
   "source": [
    "import numpy as np\n",
    "import matplotlib.pyplot as plt\n",
    "import pandas as pd\n",
    "from scipy import optimize"
   ]
  },
  {
   "cell_type": "code",
   "execution_count": 88,
   "metadata": {},
   "outputs": [],
   "source": [
    "#Prøver metoden fra sidste forelæsning:\n",
    "#Definerer nyttefuntkionen : \n",
    "def utility(model, c, l):\n",
    "    return np.log(c) - model.v * ((l ** (1 + (1 / model.e))) /(1 + (1 / model.e)))"
   ]
  },
  {
   "cell_type": "code",
   "execution_count": 140,
   "metadata": {},
   "outputs": [],
   "source": [
    "#Definerer solution function:\n",
    "def solve(model):\n",
    "\n",
    "    #Objective function\n",
    "    obj = lambda x: -model.utility(x[0], x[1])\n",
    "\n",
    "    #Definerer constraints\n",
    "    con = lambda x: model.x - model.m - model.w * x[1] + (model.t0 * model.w * x[1] + model.t1 * max(model.w * x[1] - model.k , 0))\n",
    "    constraints = ({'type' : 'ineq' , 'fun' : con})\n",
    "    bounds = ((0 , model.x) , (0 , 1))\n",
    "\n",
    "    #Call solver\n",
    "    x0 = [(0.4), (0.5)]\n",
    "    sol = optimize.minimize(obj , x0 , method = 'SLSQP' , bounds = bounds , constraints = constraints)\n",
    "\n",
    "    #Save\n",
    "    model.c = sol.x[0]\n",
    "    model.l = sol.x[1]\n",
    "    model.u = model.utility(model.c , model.l)\n",
    ""
   ]
  },
  {
   "cell_type": "code",
   "execution_count": 141,
   "metadata": {},
   "outputs": [],
   "source": [
    "class ConsumerClass : \n",
    "    def __init__(self):\n",
    "\n",
    "        self.v = 10\n",
    "        self.e = 0.3\n",
    "        self.x = 50\n",
    "        self.m = 1\n",
    "        self.w = 10\n",
    "        self.t0 = 0.4\n",
    "        self.t1 = 0.1\n",
    "        self.k = 0.4\n",
    "\n",
    "    utility = utility\n",
    "    solve = solve"
   ]
  },
  {
   "cell_type": "code",
   "execution_count": 142,
   "metadata": {},
   "outputs": [
    {
     "name": "stdout",
     "output_type": "stream",
     "text": "(c,l) = (50.000 , 0.060) , u = 3.912\n"
    }
   ],
   "source": [
    "#Løsning baseret på consumerclass\n",
    "test = ConsumerClass()\n",
    "test.solve()\n",
    "print(f'(c,l) = ({test.c:.3f} , {test.l:.3f}) , u = {test.u:.3f}')"
   ]
  },
  {
   "cell_type": "markdown",
   "metadata": {},
   "source": [
    "The equation above thus solves the problem for a given Consumer class, deifned by the restrictions above. \n",
    "Based on this environment the consumer would choose not to work at all, and consume the maximum amount possible (all total ressources), which is also implied by eqaution (2) in the problem text. This is possibly because some of our parameter estimates are off. This is not optimal, but later on we use the given parameter estimates to give a more precise solution. However it is shown, that the equation is able to maximize our consumer problem."
   ]
  },
  {
   "cell_type": "code",
   "execution_count": 96,
   "metadata": {},
   "outputs": [],
   "source": [
    "class ConsumerClass2 : \n",
    "    def __init__(self):\n",
    "\n",
    "        self.v = 10\n",
    "        self.e = 0.3\n",
    "        self.x = 10\n",
    "        self.m = 1\n",
    "        self.w = 10\n",
    "        self.t0 = 0.4\n",
    "        self.t1 = 0.1\n",
    "        self.k = 0.4\n",
    "\n",
    "    utility = utility\n",
    "    solve = solve"
   ]
  },
  {
   "cell_type": "code",
   "execution_count": 97,
   "metadata": {},
   "outputs": [
    {
     "name": "stdout",
     "output_type": "stream",
     "text": "(c,l) = (10.000 , 0.028) , u = 2.303\n"
    }
   ],
   "source": [
    "test = ConsumerClass2()\n",
    "test.solve()\n",
    "print(f'(c,l) = ({test.c:.3f} , {test.l:.3f}) , u = {test.u:.3f}')"
   ]
  },
  {
   "cell_type": "code",
   "execution_count": 98,
   "metadata": {},
   "outputs": [
    {
     "name": "stdout",
     "output_type": "stream",
     "text": "w = 0.500 -> (x1,x2) = (10.000,0.028), u = 2.303\nw = 0.611 -> (x1,x2) = (10.000,0.028), u = 2.303\nw = 0.722 -> (x1,x2) = (10.000,0.028), u = 2.303\nw = 0.833 -> (x1,x2) = (10.000,0.028), u = 2.303\nw = 0.944 -> (x1,x2) = (10.000,0.028), u = 2.303\nw = 1.056 -> (x1,x2) = (10.000,0.028), u = 2.303\nw = 1.167 -> (x1,x2) = (10.000,0.028), u = 2.303\nw = 1.278 -> (x1,x2) = (10.000,0.028), u = 2.303\nw = 1.389 -> (x1,x2) = (10.000,0.028), u = 2.303\nw = 1.500 -> (x1,x2) = (10.000,0.028), u = 2.303\n"
    }
   ],
   "source": [
    "for w in np.linspace(0.5,1.5,10):\n",
    "    test.w = w\n",
    "    test.solve()\n",
    "    print(f'w = {w:.3f} -> (x1,x2) = ({test.c:.3f},{test.l:.3f}), u = {test.u:.3f}')"
   ]
  },
  {
   "cell_type": "markdown",
   "metadata": {},
   "source": [
    "#Definerer vores funktion samt bibetingelse\n",
    "\n",
    "m=1\n",
    "w=1\n",
    "l=1\n",
    "e=1\n",
    "t0=1\n",
    "t1=1\n",
    "k=1\n",
    "\n",
    "def objective(c,v,l,e):\n",
    "    return np.log(c)-v*((l**(1+(1/e)))/(1+(1/e)))\n",
    "def constraint(m,w,l,t0,t1,k):\n",
    "    return m+w*l-(t0*w*l+t1*max(w*l-k, 0))\n",
    "\n",
    "c =  #Sætter c til en værdi\n",
    "\n",
    "b1 = (0, constraint(m,w,l,t0,t1,k))\n",
    "b2 = (0,1)\n",
    "bnds = [(b1,b2)]\n",
    "\n",
    "print(bnds)\n",
    "\n",
    "con1 = {'type': 'ineq', 'fun': constraint()}\n",
    "cons = [con1]\n",
    "\n",
    "sol = minimize(objective, c, method = 'SLSQP', bounds = bnds, constraints = cons)\n",
    "\n",
    "#Tester af funktionerne virker\n",
    "print(objective(1,1,1,1))\n",
    "print(constraint(1,1,1,1,1,1))\n",
    "\n",
    "\n"
   ]
  },
  {
   "cell_type": "markdown",
   "metadata": {},
   "source": [
    "fun = lambda x: np.log(x[0])-v*((x[1]**(1+(1/e)))/(1+(1/e)))\n",
    "cons = ({'type': 'ineq', 'fun': lambda x: m+w*x[1]-(t0*w*x[1]+t1*max(w*x[1]-k, 0))})\n",
    "bnds = ((0,2), (0,1))\n",
    "\n",
    "bnds\n",
    "\n",
    "sol = minimize(fun, (2, 0), method = 'SLSQP', bounds = bnds, constraints = cons)"
   ]
  },
  {
   "cell_type": "markdown",
   "metadata": {},
   "source": [
    "def imputs(x):\n",
    "    consumption = x[0]\n",
    "    labor = x[1]\n",
    "    disu = x[2]\n",
    "    ela = x[3]\n",
    "    cash = x[4]\n",
    "    tax1 = x[5]\n",
    "    tax2 = x[6]\n",
    "    cut = x[7]\n",
    "    wage = x[8]\n",
    "    equilibrium = np.log(consumption)-disu*((labor**(1+(1/ela)))/(1+(1/ela)))\n",
    "    return equilibrium\n",
    "\n",
    "def constraint2(x):\n",
    "    consumption = x[0]\n",
    "    labor = x[1]\n",
    "    disu = x[2]\n",
    "    ela = x[3]\n",
    "    cash = x[4]\n",
    "    tax1 = x[5]\n",
    "    tax2 = x[6]\n",
    "    cut = x[7]\n",
    "    wage = x[8]\n",
    "    total_resources = cash + wage*labor - (tax1*wage*labor+tax2*max(wage*labor-cut,0))\n",
    "    return total_resources\n",
    "\n",
    "def objective(x):\n",
    "    return -imputs(x)\n",
    "def constraint(x):\n",
    "    return constraint2(x)\n",
    "\n",
    "cons = ({'type': 'ineq', 'fun': constraint})\n",
    "\n",
    "#Initial guesses:\n",
    "consumptiong = 1\n",
    "laborg = 1\n",
    "disug = 1\n",
    "elag = 1\n",
    "cashg = 1\n",
    "tax1g = 1\n",
    "tax2g = 1\n",
    "cutg = 1\n",
    "wageg = 1\n",
    "\n",
    "x0 = np.array([consumptiong, laborg, disug, elag, cashg, tax1g, tax2g, cutg, wageg])\n",
    "\n",
    "sol = minimize(objective, x0, method = 'SLSQP', constraints = cons, options ={'disp':True})"
   ]
  }
 ],
 "metadata": {
  "kernelspec": {
   "display_name": "Python 3",
   "language": "python",
   "name": "python3"
  },
  "language_info": {
   "codemirror_mode": {
    "name": "ipython",
    "version": 3
   },
   "file_extension": ".py",
   "mimetype": "text/x-python",
   "name": "python",
   "nbconvert_exporter": "python",
   "pygments_lexer": "ipython3",
   "version": "3.7.4-final"
  }
 },
 "nbformat": 4,
 "nbformat_minor": 4
}