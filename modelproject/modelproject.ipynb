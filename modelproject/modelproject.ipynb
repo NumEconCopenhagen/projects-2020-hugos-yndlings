{
 "cells": [
  {
   "cell_type": "markdown",
   "metadata": {},
   "source": [
    "# Discrete call-option pricing model"
   ]
  },
  {
   "cell_type": "markdown",
   "metadata": {},
   "source": [
    "The goal of this assignment is formulate a script that correctly prices discrete call options.\n",
    "\n",
    "The main extension to the model is to analyze how an investor could combine the asset and the risk-free asset to replicate the option.\n",
    "\n",
    "### NB! The extension is only viable if the market is arbitrage-free and complete, which will be explained during the script\n"
   ]
  },
  {
   "cell_type": "markdown",
   "metadata": {},
   "source": [
    "## Option value\n",
    "\n",
    "For a market $(\\Omega , \\mathbb{P})$ where the market states are defined as $\\Omega = ({w_{1} , w_{2} , ... , w_{s}})$ an option has different prices at different times $t$.\n",
    "\n",
    "The options initial price $S_{0}$ can either go up $S_{up}$ or down $S_{down}$ with a given probability. \n",
    "The up and down prices at time $t$ depends on the factors $u , d$ , which are defined as follows:\n",
    "\n",
    "### $u = \\exp^{\\sigma \\cdot \\sqrt({t}/{n})}$ , $d = \\exp^{-\\sigma \\cdot \\sqrt({t}/{n})} = 1 / u$\n",
    "\n",
    "These state-factors combined with the interest rate $R = (1+r)$ makes it possible to calculate the $q$ probability defined as:\n",
    "\n",
    "### $q = \\frac{(R - u)}{(u - d)}$\n",
    "\n",
    "For a call option the option value depends on the strike price, and the option value in a certain state can be defined as : \n",
    "\n",
    "### $C_{u} = (uS_{0}-K)^+$ , $C_{d} = (dS_{0}-K)^+$\n",
    "\n",
    "All these equations can be combined to find the option value at $t=0$ denoted as $C_{0}$\n",
    "\n",
    "### $C_{0} = \\frac{1}{R} \\cdot (q\\cdot C_{u} + (1-q)\\cdot C_{d})$\n",
    "\n",
    "## No arbitrage and complete market?\n",
    "\n",
    "If the market is complete and arbitrage-free, an investor is able to replicate the option by allocating between the asset and risk-free asset. \n",
    "\n",
    "It is therefore beneficial to examine whether or not the market is complete and arbitrage-free. \n",
    "\n",
    "A market $(\\Omega , \\mathbb{P})$ is arbitrage-free and complete if the probability measure $q\\in [0 , 1]$ and $\\sum q_{i} = 1$.\n",
    "\n",
    "This ensures that q is the unconditional martingale-measure and makes the market Arbitrage-free and complete. \n",
    "\n",
    "A quick way in our framework to test whether the market is Arbitrage-free and complete is to examine if $u>R>d$.\n",
    "\n",
    "To replicate the option in an arbitrage-free and complete market (2-period) , we need to know the price-vector $\\pi$ and payment matrix $D^T$ which are defined as the following, note that these definitions can be extended to further dimensions:\n",
    "\n",
    "$\\pi = \\begin{bmatrix}\n",
    "C_{u} \\\\\\\n",
    "C_{d}\n",
    "\\end{bmatrix} , $ $D^T = \\begin{bmatrix}\n",
    "S_{1u} & R \\\\\\\n",
    "S_{1d} & R\n",
    "\\end{bmatrix} $\n",
    "\n",
    "To replcate the option you have to multiply the inverse payment matrix with the price vector : \n",
    "\n",
    "$\\Phi = (D^T)^{-1}\\cdot \\pi = \\begin{bmatrix}\n",
    "Assets \\\\\\\n",
    "Risk free\n",
    "\\end{bmatrix} $\n"
   ]
  },
  {
   "cell_type": "code",
   "execution_count": 16,
   "metadata": {},
   "outputs": [],
   "source": [
    "import numpy as np\n",
    "import matplotlib.pyplot as plt \n",
    "import sympy as sp"
   ]
  },
  {
   "cell_type": "code",
   "execution_count": 29,
   "metadata": {},
   "outputs": [],
   "source": [
    "def option_tree(N , T , S0 , sigma , r , K , array_out=False):\n",
    "\n",
    "    \"\"\"This function generates a price-tree , option-pricing-tree and returns option price at time t = 0\n",
    "        \"array_out = False\" will only show the option price a t = 0. \n",
    "        \"Array_out = True\" will show details from function\"\"\"\n",
    "\n",
    "#======================================================\n",
    "\n",
    "    # Defining variables\n",
    "    global price_tree , option , R\n",
    "    dt = T / N                      # Expiration time / periods\n",
    "    u = np.exp(sigma * np.sqrt(dt)) # Up-state\n",
    "    d = 1/u                         # Down-State\n",
    "    R = 1 + r                       # Interest\n",
    "    q = (R - d) / (u - d)           # q-prob\n",
    "\n",
    "#=======================================================\n",
    "\n",
    "    # Price-Tree\n",
    "    price_tree = np.zeros([N+1 , N+1]) # Empty grid\n",
    "\n",
    "    for i in range(N + 1):\n",
    "        for j in range(i + 1):\n",
    "            price_tree[j , i] = S0 * (d ** j) * (u ** (i - j)) # Generating prices in grid\n",
    "\n",
    "#=======================================================\n",
    "\n",
    "    # Option value\n",
    "    option = np.zeros([N + 1 , N + 1])\n",
    "    option[: , N] = np.maximum(np.zeros(N + 1) , price_tree[: , N] - K) # Finds max when strike price has been accounted for\n",
    "\n",
    "#=======================================================\n",
    "\n",
    "    # Calculates option price at t = 0\n",
    "    for i in np.arange(N - 1 , -1 , -1):\n",
    "        for j in np.arange(0 , i + 1):\n",
    "            option[j , i] = (1 / R) * (q * option[j , i + 1] + (1 - q) * option[j + 1 , i + 1]) # Calculates C0\n",
    "\n",
    "#=======================================================\n",
    "    answer1 = \"The model is Arbitrage-free and complete\"\n",
    "    answer2 = \"The model is not Arbitrage-free or complete, replication NOT possible\"\n",
    "\n",
    "    # Return the price\n",
    "    if array_out:\n",
    "        if u > R > d:\n",
    "            return [str(answer1) , option[0 , 0] , price_tree , option] \n",
    "        else:\n",
    "            return [str(answer2) , option[0 , 0] , price_tree , option] \n",
    "    else:\n",
    "        return option[0 , 0]"
   ]
  },
  {
   "cell_type": "code",
   "execution_count": 30,
   "metadata": {},
   "outputs": [
    {
     "data": {
      "text/plain": [
       "['The model is Arbitrage-free and complete',\n",
       " 10.74842362739621,\n",
       " array([[50.        , 60.01523499, 72.03656861],\n",
       "        [ 0.        , 41.6560895 , 50.        ],\n",
       "        [ 0.        ,  0.        , 34.70459585]]),\n",
       " array([[10.74842363, 17.15809213, 27.03656861],\n",
       "        [ 0.        ,  2.81264011,  5.        ],\n",
       "        [ 0.        ,  0.        ,  0.        ]])]"
      ]
     },
     "execution_count": 30,
     "metadata": {},
     "output_type": "execute_result"
    }
   ],
   "source": [
    "#Calling the function by selecting parameters\n",
    "option_tree(2 , 2 , 50 , 0.182575441 , 0.05 , 45 , True)"
   ]
  },
  {
   "cell_type": "code",
   "execution_count": 48,
   "metadata": {},
   "outputs": [
    {
     "data": {
      "image/png": "[encoded data removed]",
      "text/plain": [
       "<Figure size 432x288 with 1 Axes>"
      ]
     },
     "metadata": {
      "needs_background": "light"
     },
     "output_type": "display_data"
    }
   ],
   "source": [
    "#Plotting Option price\n",
    "plt.xlim(0,1) \n",
    "plt.figtext(0.18,0.55,\"{:.2f}\".format((price_tree[0 , 0])))\n",
    "plt.figtext(0.22,0.1,\"t=0\")\n",
    "plt.figtext(0.45,0.1,\"t=1\")\n",
    "plt.figtext(0.65,0.1,\"t=2\")\n",
    "plt.figtext(0.45,0.5+0.16,\"{:.2f}\".format((price_tree[0 , 1])))\n",
    "plt.figtext(0.45,0.5-0.17,\"{:.2f}\".format((price_tree[1 , 1])))\n",
    "plt.figtext(0.65,0.5+0.25,\"{:.2f}\".format((price_tree[0 , 2])))\n",
    "plt.figtext(0.65,0.5+0.05,\"{:.2f}\".format((price_tree[1 , 2])))\n",
    "plt.figtext(0.65,0.5-0.25,\"{:.2f}\".format((price_tree[2 , 2])))\n",
    "\n",
    "plt.annotate('',xy=(0.5,0.5+0.15), xytext=(0.1,0.5), arrowprops=dict(facecolor='dimgrey',shrink=0.01))\n",
    "plt.annotate('',xy=(0.5,0.5-0.15), xytext=(0.1,0.5), arrowprops=dict(facecolor='dimgrey',shrink=0.01))\n",
    "plt.annotate('',xy=(0.75,0.5+0.24), xytext=(0.1,0.5), arrowprops=dict(facecolor='dimgrey',shrink=0.62))\n",
    "plt.annotate('',xy=(0.75,0.5-0.24), xytext=(0.1,0.5), arrowprops=dict(facecolor='dimgrey',shrink=0.62))\n",
    "plt.annotate('',xy=(0.75,.5), xytext=(0.1,0.5), arrowprops=dict(facecolor='dimgrey',shrink=0.68))\n",
    "plt.title('Option Price')\n",
    "plt.axis('off')\n",
    "plt.show()"
   ]
  },
  {
   "cell_type": "markdown",
   "metadata": {},
   "source": [
    "### The middle arrow shows if the price goes up then down, or down then up"
   ]
  },
  {
   "cell_type": "code",
   "execution_count": 49,
   "metadata": {},
   "outputs": [
    {
     "data": {
      "image/png": "[encoded data removed]",
      "text/plain": [
       "<Figure size 432x288 with 1 Axes>"
      ]
     },
     "metadata": {
      "needs_background": "light"
     },
     "output_type": "display_data"
    }
   ],
   "source": [
    "#Plotting Option Value\n",
    "plt.xlim(0,1) \n",
    "plt.figtext(0.18,0.55,\"{:.2f}\".format((option[0 , 0])))\n",
    "plt.figtext(0.22,0.1,\"t=0\")\n",
    "plt.figtext(0.45,0.1,\"t=1\")\n",
    "plt.figtext(0.65,0.1,\"t=2\")\n",
    "plt.figtext(0.45,0.5+0.16,\"{:.2f}\".format((option[0 , 1])))\n",
    "plt.figtext(0.45,0.5-0.17,\"{:.2f}\".format((option[1 , 1])))\n",
    "plt.figtext(0.65,0.5+0.25,\"{:.2f}\".format((option[0 , 2])))\n",
    "plt.figtext(0.65,0.5+0.05,\"{:.2f}\".format((option[1 , 2])))\n",
    "plt.figtext(0.65,0.5-0.25,\"{:.2f}\".format((option[2 , 2])))\n",
    "\n",
    "plt.annotate('',xy=(0.5,0.5+0.15), xytext=(0.1,0.5), arrowprops=dict(facecolor='dimgrey',shrink=0.01))\n",
    "plt.annotate('',xy=(0.5,0.5-0.15), xytext=(0.1,0.5), arrowprops=dict(facecolor='dimgrey',shrink=0.01))\n",
    "plt.annotate('',xy=(0.75,0.5+0.24), xytext=(0.1,0.5), arrowprops=dict(facecolor='dimgrey',shrink=0.62))\n",
    "plt.annotate('',xy=(0.75,0.5-0.24), xytext=(0.1,0.5), arrowprops=dict(facecolor='dimgrey',shrink=0.62))\n",
    "plt.annotate('',xy=(0.75,.5), xytext=(0.1,0.5), arrowprops=dict(facecolor='dimgrey',shrink=0.68))\n",
    "plt.title('Option Value')\n",
    "plt.axis('off')\n",
    "plt.show()"
   ]
  },
  {
   "cell_type": "markdown",
   "metadata": {},
   "source": [
    "### The middle arrow shows if the value goes up then down, or down then up"
   ]
  },
  {
   "cell_type": "markdown",
   "metadata": {},
   "source": [
    "## Replicating option by mixing asset and risk-free asset"
   ]
  },
  {
   "cell_type": "code",
   "execution_count": 47,
   "metadata": {},
   "outputs": [
    {
     "data": {
      "text/latex": [
       "$\\displaystyle \\left[\\begin{matrix}0.781379069461348\\\\-28.3205298456712\\end{matrix}\\right]$"
      ],
      "text/plain": [
       "Matrix([\n",
       "[0.781379069461348],\n",
       "[-28.3205298456712]])"
      ]
     },
     "metadata": {},
     "output_type": "display_data"
    },
    {
     "data": {
      "text/latex": [
       "$\\displaystyle \\left[\\begin{matrix}17.1580921290992\\\\2.81264011359925\\end{matrix}\\right]$"
      ],
      "text/plain": [
       "Matrix([\n",
       "[17.1580921290992],\n",
       "[2.81264011359925]])"
      ]
     },
     "metadata": {},
     "output_type": "display_data"
    }
   ],
   "source": [
    "pi = sp.Matrix([[option[0 , 1]] , [option[1 , 1]]]) # price-vector\n",
    "Dt = sp.Matrix([[price_tree[0 , 1] , R] , [price_tree[1 , 1] , R]]) # payment matrix\n",
    "\n",
    "Dti = Dt**-1 # Inverting the payment matrix\n",
    "\n",
    "phi = Dti * pi\n",
    "\n",
    "display(phi)\n",
    "\n",
    "# Check if the calculations are correct\n",
    "\n",
    "display(Dt * phi) # Should be equal to the price-vector"
   ]
  }
 ],
 "metadata": {
  "kernelspec": {
   "display_name": "Python 3",
   "language": "python",
   "name": "python3"
  },
  "language_info": {
   "codemirror_mode": {
    "name": "ipython",
    "version": 3
   },
   "file_extension": ".py",
   "mimetype": "text/x-python",
   "name": "python",
   "nbconvert_exporter": "python",
   "pygments_lexer": "ipython3",
   "version": "3.7.4"
  }
 },
 "nbformat": 4,
 "nbformat_minor": 4
}
